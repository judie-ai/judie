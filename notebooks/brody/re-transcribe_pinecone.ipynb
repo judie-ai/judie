{
 "cells": [
  {
   "cell_type": "code",
   "execution_count": 1,
   "outputs": [],
   "source": [
    "import pandas as pd\n"
   ],
   "metadata": {
    "collapsed": false
   }
  },
  {
   "cell_type": "code",
   "execution_count": 2,
   "metadata": {
    "collapsed": true
   },
   "outputs": [
    {
     "data": {
      "text/plain": "   Unnamed: 0    id                                           sentence   \n0           0   394  Some of the most important inventions were inf...  \\\n1           1   387  However, it was the railroad industry that aff...   \n2           2  1755  Significantly, integration helped to break dow...   \n3           3  1987  Unions can also drive up wages. A union is an ...   \n4           4  2143  Congress may do what is necessary to the end f...   \n\n  namespace  \n0   SocStud  \n1   SocStud  \n2   SocStud  \n3   SocStud  \n4   SocStud  ",
      "text/html": "<div>\n<style scoped>\n    .dataframe tbody tr th:only-of-type {\n        vertical-align: middle;\n    }\n\n    .dataframe tbody tr th {\n        vertical-align: top;\n    }\n\n    .dataframe thead th {\n        text-align: right;\n    }\n</style>\n<table border=\"1\" class=\"dataframe\">\n  <thead>\n    <tr style=\"text-align: right;\">\n      <th></th>\n      <th>Unnamed: 0</th>\n      <th>id</th>\n      <th>sentence</th>\n      <th>namespace</th>\n    </tr>\n  </thead>\n  <tbody>\n    <tr>\n      <th>0</th>\n      <td>0</td>\n      <td>394</td>\n      <td>Some of the most important inventions were inf...</td>\n      <td>SocStud</td>\n    </tr>\n    <tr>\n      <th>1</th>\n      <td>1</td>\n      <td>387</td>\n      <td>However, it was the railroad industry that aff...</td>\n      <td>SocStud</td>\n    </tr>\n    <tr>\n      <th>2</th>\n      <td>2</td>\n      <td>1755</td>\n      <td>Significantly, integration helped to break dow...</td>\n      <td>SocStud</td>\n    </tr>\n    <tr>\n      <th>3</th>\n      <td>3</td>\n      <td>1987</td>\n      <td>Unions can also drive up wages. A union is an ...</td>\n      <td>SocStud</td>\n    </tr>\n    <tr>\n      <th>4</th>\n      <td>4</td>\n      <td>2143</td>\n      <td>Congress may do what is necessary to the end f...</td>\n      <td>SocStud</td>\n    </tr>\n  </tbody>\n</table>\n</div>"
     },
     "execution_count": 2,
     "metadata": {},
     "output_type": "execute_result"
    }
   ],
   "source": [
    "\n",
    "chunks = pd.read_csv('/Users/brody/work/data/pinecone_backup.csv')"
   ]
  },
  {
   "cell_type": "code",
   "execution_count": 13,
   "outputs": [
    {
     "data": {
      "text/plain": "542.3656459291612"
     },
     "execution_count": 13,
     "metadata": {},
     "output_type": "execute_result"
    }
   ],
   "source": [
    "sum(chunks['sentence'].map(lambda x: len(x)))/len(chunks['sentence'])"
   ],
   "metadata": {
    "collapsed": false
   }
  },
  {
   "cell_type": "code",
   "execution_count": null,
   "outputs": [],
   "source": [],
   "metadata": {
    "collapsed": false
   }
  }
 ],
 "metadata": {
  "kernelspec": {
   "display_name": "Python 3",
   "language": "python",
   "name": "python3"
  },
  "language_info": {
   "codemirror_mode": {
    "name": "ipython",
    "version": 2
   },
   "file_extension": ".py",
   "mimetype": "text/x-python",
   "name": "python",
   "nbconvert_exporter": "python",
   "pygments_lexer": "ipython2",
   "version": "2.7.6"
  }
 },
 "nbformat": 4,
 "nbformat_minor": 0
}
