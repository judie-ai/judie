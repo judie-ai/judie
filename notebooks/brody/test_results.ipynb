{
 "cells": [
  {
   "cell_type": "code",
   "execution_count": 17,
   "metadata": {
    "collapsed": true
   },
   "outputs": [],
   "source": [
    "import numpy as np\n",
    "import pandas as pd\n",
    "import altair as alt\n",
    "import numpy as np"
   ]
  },
  {
   "cell_type": "code",
   "execution_count": 26,
   "outputs": [
    {
     "data": {
      "text/plain": "                                   Test  ChatGPT (GPT3.5)  GPT-4  Judie   \n0                                  LSAT               149    161    180  \\\n1  SAT Evidence-Based Reading & Writing               670    710    790   \n2                              SAT Math               590    690    790   \n3                     GRE Quantitative                147    157    169   \n4                            GRE Verbal               154    165    169   \n\n   GPT-3.5_percentile  GPT-4_percentile  Judie_percentile  \n0                  40                83                99  \n1                  87                93                99  \n2                  70                89                99  \n3                  25                62                99  \n4                  63                96                99  ",
      "text/html": "<div>\n<style scoped>\n    .dataframe tbody tr th:only-of-type {\n        vertical-align: middle;\n    }\n\n    .dataframe tbody tr th {\n        vertical-align: top;\n    }\n\n    .dataframe thead th {\n        text-align: right;\n    }\n</style>\n<table border=\"1\" class=\"dataframe\">\n  <thead>\n    <tr style=\"text-align: right;\">\n      <th></th>\n      <th>Test</th>\n      <th>ChatGPT (GPT3.5)</th>\n      <th>GPT-4</th>\n      <th>Judie</th>\n      <th>GPT-3.5_percentile</th>\n      <th>GPT-4_percentile</th>\n      <th>Judie_percentile</th>\n    </tr>\n  </thead>\n  <tbody>\n    <tr>\n      <th>0</th>\n      <td>LSAT</td>\n      <td>149</td>\n      <td>161</td>\n      <td>180</td>\n      <td>40</td>\n      <td>83</td>\n      <td>99</td>\n    </tr>\n    <tr>\n      <th>1</th>\n      <td>SAT Evidence-Based Reading &amp; Writing</td>\n      <td>670</td>\n      <td>710</td>\n      <td>790</td>\n      <td>87</td>\n      <td>93</td>\n      <td>99</td>\n    </tr>\n    <tr>\n      <th>2</th>\n      <td>SAT Math</td>\n      <td>590</td>\n      <td>690</td>\n      <td>790</td>\n      <td>70</td>\n      <td>89</td>\n      <td>99</td>\n    </tr>\n    <tr>\n      <th>3</th>\n      <td>GRE Quantitative</td>\n      <td>147</td>\n      <td>157</td>\n      <td>169</td>\n      <td>25</td>\n      <td>62</td>\n      <td>99</td>\n    </tr>\n    <tr>\n      <th>4</th>\n      <td>GRE Verbal</td>\n      <td>154</td>\n      <td>165</td>\n      <td>169</td>\n      <td>63</td>\n      <td>96</td>\n      <td>99</td>\n    </tr>\n  </tbody>\n</table>\n</div>"
     },
     "execution_count": 26,
     "metadata": {},
     "output_type": "execute_result"
    }
   ],
   "source": [
    "df = pd.read_csv(\"/Users/brody/work/data/test_scores.csv\")\n",
    "df.head()"
   ],
   "metadata": {
    "collapsed": false
   }
  },
  {
   "cell_type": "code",
   "execution_count": 30,
   "outputs": [
    {
     "data": {
      "text/plain": "                                    Test  ChatGPT (GPT3.5)  GPT-4  Judie\n0                                   LSAT               149    161    180\n1   SAT Evidence-Based Reading & Writing               670    710    790\n2                               SAT Math               590    690    790\n3                      GRE Quantitative                147    157    169\n4                             GRE Verbal               154    165    169\n5                            GRE Writing                 4      4      6\n6                         AP Art History                 5      5      5\n7                             AP Biology                 4      5      5\n8                         AP Calculus BC                 1      4      5\n9                           AP Chemistry                 2      4      5\n10     AP English Language & Composition                 2      2      5\n11   AP English Literature & Composition                 2      2      5\n12              AP Environmental Science                 5      5      5\n13                     AP Macroeconomics                 2      5      5\n14                     AP Microeconomics                 4      4      5\n15                          AP Physics 2                 3      4      5\n16                         AP Psychology                 5      5      5\n17                         AP Statistics                 3      5      5\n18                     AP US Government                  4      5      5\n19                         AP US History                 4      4      5\n20                      AP World History                 4      4      5",
      "text/html": "<div>\n<style scoped>\n    .dataframe tbody tr th:only-of-type {\n        vertical-align: middle;\n    }\n\n    .dataframe tbody tr th {\n        vertical-align: top;\n    }\n\n    .dataframe thead th {\n        text-align: right;\n    }\n</style>\n<table border=\"1\" class=\"dataframe\">\n  <thead>\n    <tr style=\"text-align: right;\">\n      <th></th>\n      <th>Test</th>\n      <th>ChatGPT (GPT3.5)</th>\n      <th>GPT-4</th>\n      <th>Judie</th>\n    </tr>\n  </thead>\n  <tbody>\n    <tr>\n      <th>0</th>\n      <td>LSAT</td>\n      <td>149</td>\n      <td>161</td>\n      <td>180</td>\n    </tr>\n    <tr>\n      <th>1</th>\n      <td>SAT Evidence-Based Reading &amp; Writing</td>\n      <td>670</td>\n      <td>710</td>\n      <td>790</td>\n    </tr>\n    <tr>\n      <th>2</th>\n      <td>SAT Math</td>\n      <td>590</td>\n      <td>690</td>\n      <td>790</td>\n    </tr>\n    <tr>\n      <th>3</th>\n      <td>GRE Quantitative</td>\n      <td>147</td>\n      <td>157</td>\n      <td>169</td>\n    </tr>\n    <tr>\n      <th>4</th>\n      <td>GRE Verbal</td>\n      <td>154</td>\n      <td>165</td>\n      <td>169</td>\n    </tr>\n    <tr>\n      <th>5</th>\n      <td>GRE Writing</td>\n      <td>4</td>\n      <td>4</td>\n      <td>6</td>\n    </tr>\n    <tr>\n      <th>6</th>\n      <td>AP Art History</td>\n      <td>5</td>\n      <td>5</td>\n      <td>5</td>\n    </tr>\n    <tr>\n      <th>7</th>\n      <td>AP Biology</td>\n      <td>4</td>\n      <td>5</td>\n      <td>5</td>\n    </tr>\n    <tr>\n      <th>8</th>\n      <td>AP Calculus BC</td>\n      <td>1</td>\n      <td>4</td>\n      <td>5</td>\n    </tr>\n    <tr>\n      <th>9</th>\n      <td>AP Chemistry</td>\n      <td>2</td>\n      <td>4</td>\n      <td>5</td>\n    </tr>\n    <tr>\n      <th>10</th>\n      <td>AP English Language &amp; Composition</td>\n      <td>2</td>\n      <td>2</td>\n      <td>5</td>\n    </tr>\n    <tr>\n      <th>11</th>\n      <td>AP English Literature &amp; Composition</td>\n      <td>2</td>\n      <td>2</td>\n      <td>5</td>\n    </tr>\n    <tr>\n      <th>12</th>\n      <td>AP Environmental Science</td>\n      <td>5</td>\n      <td>5</td>\n      <td>5</td>\n    </tr>\n    <tr>\n      <th>13</th>\n      <td>AP Macroeconomics</td>\n      <td>2</td>\n      <td>5</td>\n      <td>5</td>\n    </tr>\n    <tr>\n      <th>14</th>\n      <td>AP Microeconomics</td>\n      <td>4</td>\n      <td>4</td>\n      <td>5</td>\n    </tr>\n    <tr>\n      <th>15</th>\n      <td>AP Physics 2</td>\n      <td>3</td>\n      <td>4</td>\n      <td>5</td>\n    </tr>\n    <tr>\n      <th>16</th>\n      <td>AP Psychology</td>\n      <td>5</td>\n      <td>5</td>\n      <td>5</td>\n    </tr>\n    <tr>\n      <th>17</th>\n      <td>AP Statistics</td>\n      <td>3</td>\n      <td>5</td>\n      <td>5</td>\n    </tr>\n    <tr>\n      <th>18</th>\n      <td>AP US Government</td>\n      <td>4</td>\n      <td>5</td>\n      <td>5</td>\n    </tr>\n    <tr>\n      <th>19</th>\n      <td>AP US History</td>\n      <td>4</td>\n      <td>4</td>\n      <td>5</td>\n    </tr>\n    <tr>\n      <th>20</th>\n      <td>AP World History</td>\n      <td>4</td>\n      <td>4</td>\n      <td>5</td>\n    </tr>\n  </tbody>\n</table>\n</div>"
     },
     "execution_count": 30,
     "metadata": {},
     "output_type": "execute_result"
    }
   ],
   "source": [
    "df_comp = df[['Test','ChatGPT (GPT3.5)','GPT-4','Judie']]\n",
    "df_comp"
   ],
   "metadata": {
    "collapsed": false
   }
  },
  {
   "cell_type": "code",
   "execution_count": 57,
   "outputs": [],
   "source": [
    "df_perc = df[['Test','GPT-3.5_percentile','GPT-4_percentile','Judie_percentile']]\n",
    "df_perc = df_perc.rename(columns={'GPT-3.5_percentile':'ChatGPT (GPT3.5)','GPT-4_percentile':'GPT-4','Judie_percentile':'Judie'})"
   ],
   "metadata": {
    "collapsed": false
   }
  },
  {
   "cell_type": "code",
   "execution_count": 62,
   "outputs": [
    {
     "data": {
      "text/plain": "                                    Test          variable  percentile\n0                                   LSAT  ChatGPT (GPT3.5)          40\n1   SAT Evidence-Based Reading & Writing  ChatGPT (GPT3.5)          87\n2                               SAT Math  ChatGPT (GPT3.5)          70\n3                      GRE Quantitative   ChatGPT (GPT3.5)          25\n4                             GRE Verbal  ChatGPT (GPT3.5)          63\n..                                   ...               ...         ...\n58                         AP Psychology             Judie          99\n59                         AP Statistics             Judie          99\n60                     AP US Government              Judie          99\n61                         AP US History             Judie          99\n62                      AP World History             Judie          99\n\n[63 rows x 3 columns]",
      "text/html": "<div>\n<style scoped>\n    .dataframe tbody tr th:only-of-type {\n        vertical-align: middle;\n    }\n\n    .dataframe tbody tr th {\n        vertical-align: top;\n    }\n\n    .dataframe thead th {\n        text-align: right;\n    }\n</style>\n<table border=\"1\" class=\"dataframe\">\n  <thead>\n    <tr style=\"text-align: right;\">\n      <th></th>\n      <th>Test</th>\n      <th>variable</th>\n      <th>percentile</th>\n    </tr>\n  </thead>\n  <tbody>\n    <tr>\n      <th>0</th>\n      <td>LSAT</td>\n      <td>ChatGPT (GPT3.5)</td>\n      <td>40</td>\n    </tr>\n    <tr>\n      <th>1</th>\n      <td>SAT Evidence-Based Reading &amp; Writing</td>\n      <td>ChatGPT (GPT3.5)</td>\n      <td>87</td>\n    </tr>\n    <tr>\n      <th>2</th>\n      <td>SAT Math</td>\n      <td>ChatGPT (GPT3.5)</td>\n      <td>70</td>\n    </tr>\n    <tr>\n      <th>3</th>\n      <td>GRE Quantitative</td>\n      <td>ChatGPT (GPT3.5)</td>\n      <td>25</td>\n    </tr>\n    <tr>\n      <th>4</th>\n      <td>GRE Verbal</td>\n      <td>ChatGPT (GPT3.5)</td>\n      <td>63</td>\n    </tr>\n    <tr>\n      <th>...</th>\n      <td>...</td>\n      <td>...</td>\n      <td>...</td>\n    </tr>\n    <tr>\n      <th>58</th>\n      <td>AP Psychology</td>\n      <td>Judie</td>\n      <td>99</td>\n    </tr>\n    <tr>\n      <th>59</th>\n      <td>AP Statistics</td>\n      <td>Judie</td>\n      <td>99</td>\n    </tr>\n    <tr>\n      <th>60</th>\n      <td>AP US Government</td>\n      <td>Judie</td>\n      <td>99</td>\n    </tr>\n    <tr>\n      <th>61</th>\n      <td>AP US History</td>\n      <td>Judie</td>\n      <td>99</td>\n    </tr>\n    <tr>\n      <th>62</th>\n      <td>AP World History</td>\n      <td>Judie</td>\n      <td>99</td>\n    </tr>\n  </tbody>\n</table>\n<p>63 rows × 3 columns</p>\n</div>"
     },
     "execution_count": 62,
     "metadata": {},
     "output_type": "execute_result"
    }
   ],
   "source": [
    "df_perc"
   ],
   "metadata": {
    "collapsed": false
   }
  },
  {
   "cell_type": "code",
   "execution_count": 35,
   "outputs": [
    {
     "ename": "ValueError",
     "evalue": "value_name (value) cannot match an element in the DataFrame columns.",
     "output_type": "error",
     "traceback": [
      "\u001B[0;31m---------------------------------------------------------------------------\u001B[0m",
      "\u001B[0;31mValueError\u001B[0m                                Traceback (most recent call last)",
      "Cell \u001B[0;32mIn[35], line 1\u001B[0m\n\u001B[0;32m----> 1\u001B[0m df_comp \u001B[38;5;241m=\u001B[39m \u001B[43mdf_comp\u001B[49m\u001B[38;5;241;43m.\u001B[39;49m\u001B[43mmelt\u001B[49m\u001B[43m(\u001B[49m\u001B[43mid_vars\u001B[49m\u001B[38;5;241;43m=\u001B[39;49m\u001B[43m \u001B[49m\u001B[43m[\u001B[49m\u001B[38;5;124;43m'\u001B[39;49m\u001B[38;5;124;43mTest\u001B[39;49m\u001B[38;5;124;43m'\u001B[39;49m\u001B[43m]\u001B[49m\u001B[43m)\u001B[49m\n",
      "File \u001B[0;32m~/work/judie/infrastructure/python/ve/lib/python3.10/site-packages/pandas/core/frame.py:8985\u001B[0m, in \u001B[0;36mDataFrame.melt\u001B[0;34m(self, id_vars, value_vars, var_name, value_name, col_level, ignore_index)\u001B[0m\n\u001B[1;32m   8975\u001B[0m \u001B[38;5;129m@Appender\u001B[39m(_shared_docs[\u001B[38;5;124m\"\u001B[39m\u001B[38;5;124mmelt\u001B[39m\u001B[38;5;124m\"\u001B[39m] \u001B[38;5;241m%\u001B[39m {\u001B[38;5;124m\"\u001B[39m\u001B[38;5;124mcaller\u001B[39m\u001B[38;5;124m\"\u001B[39m: \u001B[38;5;124m\"\u001B[39m\u001B[38;5;124mdf.melt(\u001B[39m\u001B[38;5;124m\"\u001B[39m, \u001B[38;5;124m\"\u001B[39m\u001B[38;5;124mother\u001B[39m\u001B[38;5;124m\"\u001B[39m: \u001B[38;5;124m\"\u001B[39m\u001B[38;5;124mmelt\u001B[39m\u001B[38;5;124m\"\u001B[39m})\n\u001B[1;32m   8976\u001B[0m \u001B[38;5;28;01mdef\u001B[39;00m \u001B[38;5;21mmelt\u001B[39m(\n\u001B[1;32m   8977\u001B[0m     \u001B[38;5;28mself\u001B[39m,\n\u001B[0;32m   (...)\u001B[0m\n\u001B[1;32m   8983\u001B[0m     ignore_index: \u001B[38;5;28mbool\u001B[39m \u001B[38;5;241m=\u001B[39m \u001B[38;5;28;01mTrue\u001B[39;00m,\n\u001B[1;32m   8984\u001B[0m ) \u001B[38;5;241m-\u001B[39m\u001B[38;5;241m>\u001B[39m DataFrame:\n\u001B[0;32m-> 8985\u001B[0m     \u001B[38;5;28;01mreturn\u001B[39;00m \u001B[43mmelt\u001B[49m\u001B[43m(\u001B[49m\n\u001B[1;32m   8986\u001B[0m \u001B[43m        \u001B[49m\u001B[38;5;28;43mself\u001B[39;49m\u001B[43m,\u001B[49m\n\u001B[1;32m   8987\u001B[0m \u001B[43m        \u001B[49m\u001B[43mid_vars\u001B[49m\u001B[38;5;241;43m=\u001B[39;49m\u001B[43mid_vars\u001B[49m\u001B[43m,\u001B[49m\n\u001B[1;32m   8988\u001B[0m \u001B[43m        \u001B[49m\u001B[43mvalue_vars\u001B[49m\u001B[38;5;241;43m=\u001B[39;49m\u001B[43mvalue_vars\u001B[49m\u001B[43m,\u001B[49m\n\u001B[1;32m   8989\u001B[0m \u001B[43m        \u001B[49m\u001B[43mvar_name\u001B[49m\u001B[38;5;241;43m=\u001B[39;49m\u001B[43mvar_name\u001B[49m\u001B[43m,\u001B[49m\n\u001B[1;32m   8990\u001B[0m \u001B[43m        \u001B[49m\u001B[43mvalue_name\u001B[49m\u001B[38;5;241;43m=\u001B[39;49m\u001B[43mvalue_name\u001B[49m\u001B[43m,\u001B[49m\n\u001B[1;32m   8991\u001B[0m \u001B[43m        \u001B[49m\u001B[43mcol_level\u001B[49m\u001B[38;5;241;43m=\u001B[39;49m\u001B[43mcol_level\u001B[49m\u001B[43m,\u001B[49m\n\u001B[1;32m   8992\u001B[0m \u001B[43m        \u001B[49m\u001B[43mignore_index\u001B[49m\u001B[38;5;241;43m=\u001B[39;49m\u001B[43mignore_index\u001B[49m\u001B[43m,\u001B[49m\n\u001B[1;32m   8993\u001B[0m \u001B[43m    \u001B[49m\u001B[43m)\u001B[49m\u001B[38;5;241m.\u001B[39m__finalize__(\u001B[38;5;28mself\u001B[39m, method\u001B[38;5;241m=\u001B[39m\u001B[38;5;124m\"\u001B[39m\u001B[38;5;124mmelt\u001B[39m\u001B[38;5;124m\"\u001B[39m)\n",
      "File \u001B[0;32m~/work/judie/infrastructure/python/ve/lib/python3.10/site-packages/pandas/core/reshape/melt.py:56\u001B[0m, in \u001B[0;36mmelt\u001B[0;34m(frame, id_vars, value_vars, var_name, value_name, col_level, ignore_index)\u001B[0m\n\u001B[1;32m     53\u001B[0m     cols \u001B[38;5;241m=\u001B[39m \u001B[38;5;28mlist\u001B[39m(frame\u001B[38;5;241m.\u001B[39mcolumns)\n\u001B[1;32m     55\u001B[0m \u001B[38;5;28;01mif\u001B[39;00m value_name \u001B[38;5;129;01min\u001B[39;00m frame\u001B[38;5;241m.\u001B[39mcolumns:\n\u001B[0;32m---> 56\u001B[0m     \u001B[38;5;28;01mraise\u001B[39;00m \u001B[38;5;167;01mValueError\u001B[39;00m(\n\u001B[1;32m     57\u001B[0m         \u001B[38;5;124mf\u001B[39m\u001B[38;5;124m\"\u001B[39m\u001B[38;5;124mvalue_name (\u001B[39m\u001B[38;5;132;01m{\u001B[39;00mvalue_name\u001B[38;5;132;01m}\u001B[39;00m\u001B[38;5;124m) cannot match an element in \u001B[39m\u001B[38;5;124m\"\u001B[39m\n\u001B[1;32m     58\u001B[0m         \u001B[38;5;124m\"\u001B[39m\u001B[38;5;124mthe DataFrame columns.\u001B[39m\u001B[38;5;124m\"\u001B[39m\n\u001B[1;32m     59\u001B[0m     )\n\u001B[1;32m     61\u001B[0m \u001B[38;5;28;01mif\u001B[39;00m id_vars \u001B[38;5;129;01mis\u001B[39;00m \u001B[38;5;129;01mnot\u001B[39;00m \u001B[38;5;28;01mNone\u001B[39;00m:\n\u001B[1;32m     62\u001B[0m     \u001B[38;5;28;01mif\u001B[39;00m \u001B[38;5;129;01mnot\u001B[39;00m is_list_like(id_vars):\n",
      "\u001B[0;31mValueError\u001B[0m: value_name (value) cannot match an element in the DataFrame columns."
     ]
    }
   ],
   "source": [
    "df_comp = df_comp.melt(id_vars= ['Test'])"
   ],
   "metadata": {
    "collapsed": false
   }
  },
  {
   "cell_type": "code",
   "execution_count": 59,
   "outputs": [],
   "source": [
    "df_perc = df_perc.melt(id_vars= ['Test'])"
   ],
   "metadata": {
    "collapsed": false
   }
  },
  {
   "cell_type": "code",
   "execution_count": 70,
   "outputs": [],
   "source": [
    "df_perc = df_perc.rename(columns={\"value\":'Percentile'})"
   ],
   "metadata": {
    "collapsed": false
   }
  },
  {
   "cell_type": "code",
   "execution_count": 71,
   "outputs": [],
   "source": [
    "df_merge = df_perc.merge(df_comp,on=['Test','variable'])\n",
    "df_merge = df_merge.rename(columns={'value':'Composite','variable':'System'})"
   ],
   "metadata": {
    "collapsed": false
   }
  },
  {
   "cell_type": "code",
   "execution_count": 80,
   "outputs": [
    {
     "data": {
      "text/plain": "                                    Test            System  Percentile   \n0                                   LSAT  ChatGPT (GPT3.5)          40  \\\n1   SAT Evidence-Based Reading & Writing  ChatGPT (GPT3.5)          87   \n2                               SAT Math  ChatGPT (GPT3.5)          70   \n3                      GRE Quantitative   ChatGPT (GPT3.5)          25   \n4                             GRE Verbal  ChatGPT (GPT3.5)          63   \n..                                   ...               ...         ...   \n58                         AP Psychology             Judie          99   \n59                         AP Statistics             Judie          99   \n60                     AP US Government              Judie          99   \n61                         AP US History             Judie          99   \n62                      AP World History             Judie          99   \n\n    Composite  \n0         149  \n1         670  \n2         590  \n3         147  \n4         154  \n..        ...  \n58          5  \n59          5  \n60          5  \n61          5  \n62          5  \n\n[63 rows x 4 columns]",
      "text/html": "<div>\n<style scoped>\n    .dataframe tbody tr th:only-of-type {\n        vertical-align: middle;\n    }\n\n    .dataframe tbody tr th {\n        vertical-align: top;\n    }\n\n    .dataframe thead th {\n        text-align: right;\n    }\n</style>\n<table border=\"1\" class=\"dataframe\">\n  <thead>\n    <tr style=\"text-align: right;\">\n      <th></th>\n      <th>Test</th>\n      <th>System</th>\n      <th>Percentile</th>\n      <th>Composite</th>\n    </tr>\n  </thead>\n  <tbody>\n    <tr>\n      <th>0</th>\n      <td>LSAT</td>\n      <td>ChatGPT (GPT3.5)</td>\n      <td>40</td>\n      <td>149</td>\n    </tr>\n    <tr>\n      <th>1</th>\n      <td>SAT Evidence-Based Reading &amp; Writing</td>\n      <td>ChatGPT (GPT3.5)</td>\n      <td>87</td>\n      <td>670</td>\n    </tr>\n    <tr>\n      <th>2</th>\n      <td>SAT Math</td>\n      <td>ChatGPT (GPT3.5)</td>\n      <td>70</td>\n      <td>590</td>\n    </tr>\n    <tr>\n      <th>3</th>\n      <td>GRE Quantitative</td>\n      <td>ChatGPT (GPT3.5)</td>\n      <td>25</td>\n      <td>147</td>\n    </tr>\n    <tr>\n      <th>4</th>\n      <td>GRE Verbal</td>\n      <td>ChatGPT (GPT3.5)</td>\n      <td>63</td>\n      <td>154</td>\n    </tr>\n    <tr>\n      <th>...</th>\n      <td>...</td>\n      <td>...</td>\n      <td>...</td>\n      <td>...</td>\n    </tr>\n    <tr>\n      <th>58</th>\n      <td>AP Psychology</td>\n      <td>Judie</td>\n      <td>99</td>\n      <td>5</td>\n    </tr>\n    <tr>\n      <th>59</th>\n      <td>AP Statistics</td>\n      <td>Judie</td>\n      <td>99</td>\n      <td>5</td>\n    </tr>\n    <tr>\n      <th>60</th>\n      <td>AP US Government</td>\n      <td>Judie</td>\n      <td>99</td>\n      <td>5</td>\n    </tr>\n    <tr>\n      <th>61</th>\n      <td>AP US History</td>\n      <td>Judie</td>\n      <td>99</td>\n      <td>5</td>\n    </tr>\n    <tr>\n      <th>62</th>\n      <td>AP World History</td>\n      <td>Judie</td>\n      <td>99</td>\n      <td>5</td>\n    </tr>\n  </tbody>\n</table>\n<p>63 rows × 4 columns</p>\n</div>"
     },
     "execution_count": 80,
     "metadata": {},
     "output_type": "execute_result"
    }
   ],
   "source": [
    "df_merge"
   ],
   "metadata": {
    "collapsed": false
   }
  },
  {
   "cell_type": "code",
   "execution_count": 79,
   "outputs": [],
   "source": [
    "df_merge = df_merge.rename(columns={'variable':'System'})"
   ],
   "metadata": {
    "collapsed": false
   }
  },
  {
   "cell_type": "code",
   "execution_count": 166,
   "outputs": [],
   "source": [
    "domain = ['ChatGPT (GPT3.5)','GPT-4','Judie']\n",
    "range_ = ['#95b6f0','#5571a1','#8207e0']\n",
    "\n",
    "alt.Chart(df_merge).mark_bar().encode(\n",
    "    x=alt.X('Percentile'),\n",
    "    y=alt.Y('System',sort='descending',axis=None),\n",
    "    color=alt.Color('System').scale(domain=domain, range=range_),\n",
    "    tooltip=['System','Percentile','Composite']\n",
    ").facet(\n",
    "    row = alt.Row('Test',\n",
    "                  title=\"\",\n",
    "                  header=alt.Header(labelAngle=280,labelPadding=0,labelAnchor='end'),\n",
    "                  sort='descending',\n",
    "                  )\n",
    ").resolve_scale(x='independent').configure(background='#ecf2eb',font='Gill Sans').save(\"/Users/brody/work/data/test_results.png\")\n",
    "\n"
   ],
   "metadata": {
    "collapsed": false
   }
  }
 ],
 "metadata": {
  "kernelspec": {
   "display_name": "Python 3",
   "language": "python",
   "name": "python3"
  },
  "language_info": {
   "codemirror_mode": {
    "name": "ipython",
    "version": 2
   },
   "file_extension": ".py",
   "mimetype": "text/x-python",
   "name": "python",
   "nbconvert_exporter": "python",
   "pygments_lexer": "ipython2",
   "version": "2.7.6"
  }
 },
 "nbformat": 4,
 "nbformat_minor": 0
}
