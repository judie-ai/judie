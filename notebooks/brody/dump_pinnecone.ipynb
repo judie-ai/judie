{
 "cells": [
  {
   "cell_type": "code",
   "execution_count": 40,
   "metadata": {
    "collapsed": true
   },
   "outputs": [],
   "source": [
    "from dotenv import load_dotenv\n",
    "import pinecone\n",
    "import os\n",
    "import numpy as np\n",
    "import pandas as pd"
   ]
  },
  {
   "cell_type": "code",
   "execution_count": 8,
   "outputs": [
    {
     "data": {
      "text/plain": "True"
     },
     "execution_count": 8,
     "metadata": {},
     "output_type": "execute_result"
    }
   ],
   "source": [
    "load_dotenv(\"../../services/inference_service/.env\")"
   ],
   "metadata": {
    "collapsed": false
   }
  },
  {
   "cell_type": "code",
   "execution_count": 12,
   "outputs": [],
   "source": [
    "pinecone.init(\n",
    "    api_key=os.getenv(\"PINECONE_API_KEY\"),\n",
    "    environment=os.getenv(\"PINECONE_ENVIRONMENT\"),\n",
    ")\n",
    "\n",
    "general_index = pinecone.Index(\"judieai\")\n"
   ],
   "metadata": {
    "collapsed": false
   }
  },
  {
   "cell_type": "code",
   "execution_count": 78,
   "outputs": [
    {
     "name": "stdout",
     "output_type": "stream",
     "text": [
      "('CosmoAstro', {'vector_count': 2571})\n",
      "('APEngLang', {'vector_count': 2348})\n",
      "('LSAT', {'vector_count': 69120})\n",
      "('HSChem', {'vector_count': 73274})\n",
      "('PreAlg', {'vector_count': 6588})\n",
      "('SocStud', {'vector_count': 2901})\n",
      "('Psych', {'vector_count': 5295})\n",
      "('WorldRelig', {'vector_count': 4418})\n",
      "('APPhys1', {'vector_count': 1953})\n",
      "('HSStats', {'vector_count': 1985})\n",
      "('HSPhys', {'vector_count': 553})\n",
      "('ACTPrep', {'vector_count': 3174})\n",
      "('APPhys2', {'vector_count': 4734})\n",
      "('Algebra2', {'vector_count': 3596})\n",
      "('APEngLit', {'vector_count': 2245})\n",
      "('WorldHist', {'vector_count': 6061})\n",
      "('Socio', {'vector_count': 2486})\n",
      "('MolBio', {'vector_count': 5160})\n",
      "('APPsych', {'vector_count': 5295})\n",
      "('APChem', {'vector_count': 73274})\n",
      "('MultiCalc', {'vector_count': 4256})\n",
      "('APUSHist', {'vector_count': 2600})\n",
      "('MSEarthSpace', {'vector_count': 204})\n",
      "('AncientHist', {'vector_count': 1235})\n",
      "('OrgChem', {'vector_count': 14718})\n",
      "('CollAdm', {'vector_count': 820})\n",
      "('DATPrep', {'vector_count': 14589})\n",
      "('USHist', {'vector_count': 5550})\n",
      "('MSBio', {'vector_count': 313})\n",
      "('MSPhys', {'vector_count': 200})\n",
      "('Trig', {'vector_count': 2285})\n",
      "('APStats', {'vector_count': 4068})\n",
      "('APUSGov', {'vector_count': 3271})\n",
      "('APCalcAB', {'vector_count': 6901})\n",
      "('APCompGov', {'vector_count': 2491})\n",
      "('APCompSciP', {'vector_count': 4844})\n",
      "('LinAlg', {'vector_count': 6376})\n",
      "('APArHistory', {'vector_count': 9276})\n",
      "('EnviroStud', {'vector_count': 1066})\n",
      "('APCompSciA', {'vector_count': 2633})\n",
      "('DiffEq', {'vector_count': 1959})\n",
      "('PhysEdHealth', {'vector_count': 598})\n",
      "('APEnvSci', {'vector_count': 1547})\n",
      "('APMacroEcon', {'vector_count': 2270})\n",
      "('APEuroHist', {'vector_count': 7968})\n",
      "('PreCalc', {'vector_count': 3988})\n",
      "('HSBiology', {'vector_count': 21920})\n",
      "('StatProb', {'vector_count': 7479})\n",
      "('Biochem', {'vector_count': 11930})\n",
      "('CollAlg', {'vector_count': 4194})\n",
      "('APMicroEcon', {'vector_count': 4616})\n",
      "('APHumGeo', {'vector_count': 3596})\n",
      "('InorgChem', {'vector_count': 2527})\n",
      "('Calc', {'vector_count': 1915})\n",
      "('Ethics', {'vector_count': 4063})\n",
      "('Algebra1', {'vector_count': 6254})\n",
      "('Eco', {'vector_count': 2571})\n",
      "('ArtHistory', {'vector_count': 9224})\n",
      "('GMATPrep', {'vector_count': 941})\n",
      "('APBio', {'vector_count': 21920})\n",
      "('USGovPol', {'vector_count': 3271})\n",
      "('CompSci', {'vector_count': 2553})\n",
      "('MicroEcon', {'vector_count': 3371})\n",
      "('Philo', {'vector_count': 2390})\n",
      "('APWorldHist', {'vector_count': 7965})\n",
      "('Geometry', {'vector_count': 3928})\n",
      "('MacroEcon', {'vector_count': 3990})\n",
      "('APCalcBC', {'vector_count': 7876})\n",
      "68\n"
     ]
    }
   ],
   "source": [
    "for i in general_index.describe_index_stats()['namespaces'].items():\n",
    "    print(i)\n",
    "print(len(general_index.describe_index_stats()['namespaces']))"
   ],
   "metadata": {
    "collapsed": false
   }
  },
  {
   "cell_type": "code",
   "execution_count": 86,
   "outputs": [],
   "source": [
    "def get_all_vectors(top_k=10000):\n",
    "    agg_df = pd.DataFrame()\n",
    "    for item in general_index.describe_index_stats()['namespaces'].items():\n",
    "        namespace = item[0]\n",
    "        count_vectors = item[1]['vector_count']\n",
    "\n",
    "        ids = set()\n",
    "        df = pd.DataFrame()\n",
    "        while len(ids) < count_vectors:\n",
    "            input_vector = np.random.rand(1536).tolist()\n",
    "            try:\n",
    "                results = general_index.query(\n",
    "                    input_vector,\n",
    "                    top_k=top_k,\n",
    "                    include_metadata=True,\n",
    "                    namespace=namespace,\n",
    "                )\n",
    "            except:\n",
    "                continue\n",
    "\n",
    "            for result in results['matches']:\n",
    "                if result.id not in ids:\n",
    "                    ids.add(result.id)\n",
    "                    row_dict = {\"id\":result.id,'sentence':result.metadata['Sentence'],'namespace':namespace}\n",
    "                    df = pd.concat([df, pd.DataFrame([row_dict])], ignore_index=True)\n",
    "        agg_df = pd.concat([agg_df, df], ignore_index=True)\n",
    "\n",
    "    return agg_df"
   ],
   "metadata": {
    "collapsed": false
   }
  },
  {
   "cell_type": "code",
   "execution_count": 87,
   "outputs": [
    {
     "name": "stdout",
     "output_type": "stream",
     "text": [
      "          id                                           sentence namespace\n",
      "0        394  Some of the most important inventions were inf...   SocStud\n",
      "1        387  However, it was the railroad industry that aff...   SocStud\n",
      "2       1755  Significantly, integration helped to break dow...   SocStud\n",
      "3       1987  Unions can also drive up wages. A union is an ...   SocStud\n",
      "4       2143  Congress may do what is necessary to the end f...   SocStud\n",
      "...      ...                                                ...       ...\n",
      "521546   148  So what do you think would have happened to th...     MSBio\n",
      "521547   270  Traits are specific, observable characteristic...     MSBio\n",
      "521548   100  What are traits? Well, traits are an organism'...     MSBio\n",
      "521549   271  Or they can be health-related, such as a dog's...     MSBio\n",
      "521550   106  Because of work done by scientists, we now kno...     MSBio\n",
      "\n",
      "[521551 rows x 3 columns]\n"
     ]
    }
   ],
   "source": [
    "input_vector = np.random.rand(1536).tolist()\n",
    "#print(input_vector)\n",
    "total_df = get_all_vectors()\n",
    "print(total_df)"
   ],
   "metadata": {
    "collapsed": false
   }
  },
  {
   "cell_type": "code",
   "execution_count": 90,
   "outputs": [],
   "source": [
    "total_df.to_csv('/Users/brody/work/data/pinecone_backup.csvt')"
   ],
   "metadata": {
    "collapsed": false
   }
  }
 ],
 "metadata": {
  "kernelspec": {
   "display_name": "Python 3",
   "language": "python",
   "name": "python3"
  },
  "language_info": {
   "codemirror_mode": {
    "name": "ipython",
    "version": 2
   },
   "file_extension": ".py",
   "mimetype": "text/x-python",
   "name": "python",
   "nbconvert_exporter": "python",
   "pygments_lexer": "ipython2",
   "version": "2.7.6"
  }
 },
 "nbformat": 4,
 "nbformat_minor": 0
}
